{
 "cells": [
  {
   "cell_type": "markdown",
   "id": "4522f156-2f4f-4d27-ac9a-4731545383af",
   "metadata": {},
   "source": [
    "# 1. Introduction : "
   ]
  },
  {
   "cell_type": "markdown",
   "id": "72b3af14",
   "metadata": {},
   "source": [
    "A phishing website represents one of the most common security threats on the internet at present. Unlike software vulnerabilities, it targets human weaknesses. Indeed, it masquerades as trusted URLs and web pages to deceive users. With this in mind, our goal is to design a web interface incorporating a machine learning solution. This solution aims to determine whether a given URL is legitimate or constitutes a phishing attempt. To achieve this, we will extract features from the URLs and use them as input data for classification algorithms. The model training process will be fueled by open data, containing both legitimate URLs and phishing URLs."
   ]
  },
  {
   "cell_type": "markdown",
   "id": "2920aa05",
   "metadata": {},
   "source": [
    "# 2. Data Collection : "
   ]
  },
  {
   "cell_type": "markdown",
   "id": "c3c3ea88",
   "metadata": {},
   "source": [
    "In this project, I utilized a series of URLs classified as legitimate (0) and phishing (1). Collecting phishing URLs is quite straightforward thanks to the open-source service called PhishTank. This service provides a set of phishing URLs in various formats such as CSV, JSON, etc., which are updated hourly. To download the data, visit: [PhishTank](https://www.phishtank.com/developer_info.php). As for legitimate URLs, I found a source containing a collection of benign, spam, phishing, malware, and defacement URLs. The dataset's source is the University of New Brunswick, [here](https://www.unb.ca/cic/datasets/url-2016.html). The number of legitimate URLs in this collection exceeds 35,300. The URL collection is downloaded, and from that, the file 'Benign_url_file.csv' is created."
   ]
  },
  {
   "cell_type": "code",
   "execution_count": 2,
   "id": "23a2ad10-2f1c-463d-be12-cc2e62bd79b1",
   "metadata": {},
   "outputs": [],
   "source": [
    "import pandas as pd"
   ]
  },
  {
   "cell_type": "markdown",
   "id": "7aa6abf9",
   "metadata": {},
   "source": [
    "## 2.1Phishing URLs : "
   ]
  },
  {
   "cell_type": "markdown",
   "id": "9913619a",
   "metadata": {},
   "source": [
    "The phishing URLs are collected from PhishTank using the provided link. The CSV file containing the phishing URLs is obtained using the wget command. Once the dataset is downloaded, it is loaded into a DataFrame."
   ]
  },
  {
   "cell_type": "code",
   "execution_count": 3,
   "id": "ecca906c-f114-4bee-bf4a-142cd7e920d0",
   "metadata": {},
   "outputs": [
    {
     "data": {
      "text/html": [
       "<div>\n",
       "<style scoped>\n",
       "    .dataframe tbody tr th:only-of-type {\n",
       "        vertical-align: middle;\n",
       "    }\n",
       "\n",
       "    .dataframe tbody tr th {\n",
       "        vertical-align: top;\n",
       "    }\n",
       "\n",
       "    .dataframe thead th {\n",
       "        text-align: right;\n",
       "    }\n",
       "</style>\n",
       "<table border=\"1\" class=\"dataframe\">\n",
       "  <thead>\n",
       "    <tr style=\"text-align: right;\">\n",
       "      <th></th>\n",
       "      <th>phish_id</th>\n",
       "      <th>url</th>\n",
       "      <th>phish_detail_url</th>\n",
       "      <th>submission_time</th>\n",
       "      <th>verified</th>\n",
       "      <th>verification_time</th>\n",
       "      <th>online</th>\n",
       "      <th>target</th>\n",
       "    </tr>\n",
       "  </thead>\n",
       "  <tbody>\n",
       "    <tr>\n",
       "      <th>0</th>\n",
       "      <td>8503869</td>\n",
       "      <td>https://anoe.co.jp.cqnevmi.cn/aeon</td>\n",
       "      <td>http://www.phishtank.com/phish_detail.php?phis...</td>\n",
       "      <td>2024-03-22T16:00:25+00:00</td>\n",
       "      <td>yes</td>\n",
       "      <td>2024-03-22T16:03:39+00:00</td>\n",
       "      <td>yes</td>\n",
       "      <td>Other</td>\n",
       "    </tr>\n",
       "    <tr>\n",
       "      <th>1</th>\n",
       "      <td>8503868</td>\n",
       "      <td>https://anoe.co.jp.lkzeubg.cn/aeon</td>\n",
       "      <td>http://www.phishtank.com/phish_detail.php?phis...</td>\n",
       "      <td>2024-03-22T16:00:24+00:00</td>\n",
       "      <td>yes</td>\n",
       "      <td>2024-03-22T16:03:39+00:00</td>\n",
       "      <td>yes</td>\n",
       "      <td>Other</td>\n",
       "    </tr>\n",
       "    <tr>\n",
       "      <th>2</th>\n",
       "      <td>8503860</td>\n",
       "      <td>https://jp212.cn/</td>\n",
       "      <td>http://www.phishtank.com/phish_detail.php?phis...</td>\n",
       "      <td>2024-03-22T15:50:24+00:00</td>\n",
       "      <td>yes</td>\n",
       "      <td>2024-03-22T15:53:01+00:00</td>\n",
       "      <td>yes</td>\n",
       "      <td>Other</td>\n",
       "    </tr>\n",
       "    <tr>\n",
       "      <th>3</th>\n",
       "      <td>8503861</td>\n",
       "      <td>https://5-site.hobinh37930073.workers.dev</td>\n",
       "      <td>http://www.phishtank.com/phish_detail.php?phis...</td>\n",
       "      <td>2024-03-22T15:50:24+00:00</td>\n",
       "      <td>yes</td>\n",
       "      <td>2024-03-22T15:53:01+00:00</td>\n",
       "      <td>yes</td>\n",
       "      <td>Other</td>\n",
       "    </tr>\n",
       "    <tr>\n",
       "      <th>4</th>\n",
       "      <td>8503859</td>\n",
       "      <td>http://181.214.48.76/via/?http://bradesco.com.br</td>\n",
       "      <td>http://www.phishtank.com/phish_detail.php?phis...</td>\n",
       "      <td>2024-03-22T15:49:53+00:00</td>\n",
       "      <td>yes</td>\n",
       "      <td>2024-03-22T15:53:01+00:00</td>\n",
       "      <td>yes</td>\n",
       "      <td>Accurint</td>\n",
       "    </tr>\n",
       "  </tbody>\n",
       "</table>\n",
       "</div>"
      ],
      "text/plain": [
       "   phish_id                                               url  \\\n",
       "0   8503869                https://anoe.co.jp.cqnevmi.cn/aeon   \n",
       "1   8503868                https://anoe.co.jp.lkzeubg.cn/aeon   \n",
       "2   8503860                                 https://jp212.cn/   \n",
       "3   8503861         https://5-site.hobinh37930073.workers.dev   \n",
       "4   8503859  http://181.214.48.76/via/?http://bradesco.com.br   \n",
       "\n",
       "                                    phish_detail_url  \\\n",
       "0  http://www.phishtank.com/phish_detail.php?phis...   \n",
       "1  http://www.phishtank.com/phish_detail.php?phis...   \n",
       "2  http://www.phishtank.com/phish_detail.php?phis...   \n",
       "3  http://www.phishtank.com/phish_detail.php?phis...   \n",
       "4  http://www.phishtank.com/phish_detail.php?phis...   \n",
       "\n",
       "             submission_time verified          verification_time online  \\\n",
       "0  2024-03-22T16:00:25+00:00      yes  2024-03-22T16:03:39+00:00    yes   \n",
       "1  2024-03-22T16:00:24+00:00      yes  2024-03-22T16:03:39+00:00    yes   \n",
       "2  2024-03-22T15:50:24+00:00      yes  2024-03-22T15:53:01+00:00    yes   \n",
       "3  2024-03-22T15:50:24+00:00      yes  2024-03-22T15:53:01+00:00    yes   \n",
       "4  2024-03-22T15:49:53+00:00      yes  2024-03-22T15:53:01+00:00    yes   \n",
       "\n",
       "     target  \n",
       "0     Other  \n",
       "1     Other  \n",
       "2     Other  \n",
       "3     Other  \n",
       "4  Accurint  "
      ]
     },
     "execution_count": 3,
     "metadata": {},
     "output_type": "execute_result"
    }
   ],
   "source": [
    "#loading the phishing URLs data to dataframe\n",
    "phish_data = pd.read_csv(r\"./verified_online.csv\")\n",
    "phish_data.head()"
   ]
  },
  {
   "cell_type": "code",
   "execution_count": 4,
   "id": "73926142",
   "metadata": {},
   "outputs": [
    {
     "data": {
      "text/plain": [
       "(55588, 8)"
      ]
     },
     "execution_count": 4,
     "metadata": {},
     "output_type": "execute_result"
    }
   ],
   "source": [
    "phish_data.shape"
   ]
  },
  {
   "cell_type": "markdown",
   "id": "b220b407",
   "metadata": {},
   "source": [
    "Thus, the data contains thousands of phishing URLs. However, the issue here is that this data is updated every hour. To avoid the risk of data imbalance, I will limit the number of URLs to 5,000 for both categories: phishing and legitimate.\n",
    "\n",
    "Therefore, I will randomly select 5,000 samples from the previous DataFrame."
   ]
  },
  {
   "cell_type": "code",
   "execution_count": 5,
   "id": "d377084e",
   "metadata": {},
   "outputs": [
    {
     "data": {
      "text/html": [
       "<div>\n",
       "<style scoped>\n",
       "    .dataframe tbody tr th:only-of-type {\n",
       "        vertical-align: middle;\n",
       "    }\n",
       "\n",
       "    .dataframe tbody tr th {\n",
       "        vertical-align: top;\n",
       "    }\n",
       "\n",
       "    .dataframe thead th {\n",
       "        text-align: right;\n",
       "    }\n",
       "</style>\n",
       "<table border=\"1\" class=\"dataframe\">\n",
       "  <thead>\n",
       "    <tr style=\"text-align: right;\">\n",
       "      <th></th>\n",
       "      <th>phish_id</th>\n",
       "      <th>url</th>\n",
       "      <th>phish_detail_url</th>\n",
       "      <th>submission_time</th>\n",
       "      <th>verified</th>\n",
       "      <th>verification_time</th>\n",
       "      <th>online</th>\n",
       "      <th>target</th>\n",
       "    </tr>\n",
       "  </thead>\n",
       "  <tbody>\n",
       "    <tr>\n",
       "      <th>0</th>\n",
       "      <td>8500336</td>\n",
       "      <td>https://dell-122dental.web.app/</td>\n",
       "      <td>http://www.phishtank.com/phish_detail.php?phis...</td>\n",
       "      <td>2024-03-20T13:48:40+00:00</td>\n",
       "      <td>yes</td>\n",
       "      <td>2024-03-20T13:52:16+00:00</td>\n",
       "      <td>yes</td>\n",
       "      <td>Other</td>\n",
       "    </tr>\n",
       "    <tr>\n",
       "      <th>1</th>\n",
       "      <td>8042908</td>\n",
       "      <td>https://my24pay.com/</td>\n",
       "      <td>http://www.phishtank.com/phish_detail.php?phis...</td>\n",
       "      <td>2023-02-20T13:37:30+00:00</td>\n",
       "      <td>yes</td>\n",
       "      <td>2023-02-20T16:32:28+00:00</td>\n",
       "      <td>yes</td>\n",
       "      <td>Other</td>\n",
       "    </tr>\n",
       "    <tr>\n",
       "      <th>2</th>\n",
       "      <td>8483852</td>\n",
       "      <td>https://telegm.pro/</td>\n",
       "      <td>http://www.phishtank.com/phish_detail.php?phis...</td>\n",
       "      <td>2024-03-08T20:04:41+00:00</td>\n",
       "      <td>yes</td>\n",
       "      <td>2024-03-08T20:13:10+00:00</td>\n",
       "      <td>yes</td>\n",
       "      <td>Other</td>\n",
       "    </tr>\n",
       "    <tr>\n",
       "      <th>3</th>\n",
       "      <td>8294281</td>\n",
       "      <td>https://ipfs.eth.aragon.network/ipfs/bafybeigf...</td>\n",
       "      <td>http://www.phishtank.com/phish_detail.php?phis...</td>\n",
       "      <td>2023-09-11T23:16:08+00:00</td>\n",
       "      <td>yes</td>\n",
       "      <td>2023-09-11T23:33:58+00:00</td>\n",
       "      <td>yes</td>\n",
       "      <td>Other</td>\n",
       "    </tr>\n",
       "    <tr>\n",
       "      <th>4</th>\n",
       "      <td>8492323</td>\n",
       "      <td>https://tms-autohandel.com.pl/authorize.php?MN...</td>\n",
       "      <td>http://www.phishtank.com/phish_detail.php?phis...</td>\n",
       "      <td>2024-03-13T21:03:41+00:00</td>\n",
       "      <td>yes</td>\n",
       "      <td>2024-03-13T21:13:32+00:00</td>\n",
       "      <td>yes</td>\n",
       "      <td>Other</td>\n",
       "    </tr>\n",
       "  </tbody>\n",
       "</table>\n",
       "</div>"
      ],
      "text/plain": [
       "   phish_id                                                url  \\\n",
       "0   8500336                    https://dell-122dental.web.app/   \n",
       "1   8042908                               https://my24pay.com/   \n",
       "2   8483852                                https://telegm.pro/   \n",
       "3   8294281  https://ipfs.eth.aragon.network/ipfs/bafybeigf...   \n",
       "4   8492323  https://tms-autohandel.com.pl/authorize.php?MN...   \n",
       "\n",
       "                                    phish_detail_url  \\\n",
       "0  http://www.phishtank.com/phish_detail.php?phis...   \n",
       "1  http://www.phishtank.com/phish_detail.php?phis...   \n",
       "2  http://www.phishtank.com/phish_detail.php?phis...   \n",
       "3  http://www.phishtank.com/phish_detail.php?phis...   \n",
       "4  http://www.phishtank.com/phish_detail.php?phis...   \n",
       "\n",
       "             submission_time verified          verification_time online target  \n",
       "0  2024-03-20T13:48:40+00:00      yes  2024-03-20T13:52:16+00:00    yes  Other  \n",
       "1  2023-02-20T13:37:30+00:00      yes  2023-02-20T16:32:28+00:00    yes  Other  \n",
       "2  2024-03-08T20:04:41+00:00      yes  2024-03-08T20:13:10+00:00    yes  Other  \n",
       "3  2023-09-11T23:16:08+00:00      yes  2023-09-11T23:33:58+00:00    yes  Other  \n",
       "4  2024-03-13T21:03:41+00:00      yes  2024-03-13T21:13:32+00:00    yes  Other  "
      ]
     },
     "execution_count": 5,
     "metadata": {},
     "output_type": "execute_result"
    }
   ],
   "source": [
    "#Collecting 5,000 Phishing URLs randomly\n",
    "phishurl = phish_data.sample(n = 5000, random_state = 12).copy()\n",
    "phishurl = phishurl.reset_index(drop=True)\n",
    "phishurl.head()"
   ]
  },
  {
   "cell_type": "code",
   "execution_count": 6,
   "id": "0b39baf1",
   "metadata": {},
   "outputs": [
    {
     "data": {
      "text/plain": [
       "(5000, 8)"
      ]
     },
     "execution_count": 6,
     "metadata": {},
     "output_type": "execute_result"
    }
   ],
   "source": [
    "phishurl.shape"
   ]
  },
  {
   "cell_type": "markdown",
   "id": "111e3bd4",
   "metadata": {},
   "source": [
    "For now, we have collected 5000 phishing URLs. Now, we need to collect the legitimate URLs."
   ]
  },
  {
   "cell_type": "markdown",
   "id": "361413d7",
   "metadata": {},
   "source": [
    "## 2.2 Legitimate URLs :"
   ]
  },
  {
   "cell_type": "markdown",
   "id": "fb8832f6",
   "metadata": {},
   "source": [
    "From the downloaded file Benign_url_file.csv, the URLs are loaded into a DataFrame."
   ]
  },
  {
   "cell_type": "code",
   "execution_count": 7,
   "id": "0e4b19f4",
   "metadata": {},
   "outputs": [
    {
     "data": {
      "text/html": [
       "<div>\n",
       "<style scoped>\n",
       "    .dataframe tbody tr th:only-of-type {\n",
       "        vertical-align: middle;\n",
       "    }\n",
       "\n",
       "    .dataframe tbody tr th {\n",
       "        vertical-align: top;\n",
       "    }\n",
       "\n",
       "    .dataframe thead th {\n",
       "        text-align: right;\n",
       "    }\n",
       "</style>\n",
       "<table border=\"1\" class=\"dataframe\">\n",
       "  <thead>\n",
       "    <tr style=\"text-align: right;\">\n",
       "      <th></th>\n",
       "      <th>URLs</th>\n",
       "    </tr>\n",
       "  </thead>\n",
       "  <tbody>\n",
       "    <tr>\n",
       "      <th>0</th>\n",
       "      <td>http://1337x.to/torrent/1110018/Blackhat-2015-...</td>\n",
       "    </tr>\n",
       "    <tr>\n",
       "      <th>1</th>\n",
       "      <td>http://1337x.to/torrent/1122940/Blackhat-2015-...</td>\n",
       "    </tr>\n",
       "    <tr>\n",
       "      <th>2</th>\n",
       "      <td>http://1337x.to/torrent/1124395/Fast-and-Furio...</td>\n",
       "    </tr>\n",
       "    <tr>\n",
       "      <th>3</th>\n",
       "      <td>http://1337x.to/torrent/1145504/Avengers-Age-o...</td>\n",
       "    </tr>\n",
       "    <tr>\n",
       "      <th>4</th>\n",
       "      <td>http://1337x.to/torrent/1160078/Avengers-age-o...</td>\n",
       "    </tr>\n",
       "  </tbody>\n",
       "</table>\n",
       "</div>"
      ],
      "text/plain": [
       "                                                URLs\n",
       "0  http://1337x.to/torrent/1110018/Blackhat-2015-...\n",
       "1  http://1337x.to/torrent/1122940/Blackhat-2015-...\n",
       "2  http://1337x.to/torrent/1124395/Fast-and-Furio...\n",
       "3  http://1337x.to/torrent/1145504/Avengers-Age-o...\n",
       "4  http://1337x.to/torrent/1160078/Avengers-age-o..."
      ]
     },
     "execution_count": 7,
     "metadata": {},
     "output_type": "execute_result"
    }
   ],
   "source": [
    "legit_data = pd.read_csv(r\".\\Benign_url_file.csv\")\n",
    "legit_data.columns = ['URLs']\n",
    "legit_data.head()"
   ]
  },
  {
   "cell_type": "code",
   "execution_count": 8,
   "id": "33d55365",
   "metadata": {},
   "outputs": [
    {
     "data": {
      "text/plain": [
       "(35377, 1)"
      ]
     },
     "execution_count": 8,
     "metadata": {},
     "output_type": "execute_result"
    }
   ],
   "source": [
    "legit_data.shape"
   ]
  },
  {
   "cell_type": "markdown",
   "id": "4cbe5ce6",
   "metadata": {},
   "source": [
    "In this case, I will randomly select 5000 samples of legitimate URLs from the previous DataFrame."
   ]
  },
  {
   "cell_type": "code",
   "execution_count": 9,
   "id": "e1c758e6",
   "metadata": {},
   "outputs": [
    {
     "data": {
      "text/html": [
       "<div>\n",
       "<style scoped>\n",
       "    .dataframe tbody tr th:only-of-type {\n",
       "        vertical-align: middle;\n",
       "    }\n",
       "\n",
       "    .dataframe tbody tr th {\n",
       "        vertical-align: top;\n",
       "    }\n",
       "\n",
       "    .dataframe thead th {\n",
       "        text-align: right;\n",
       "    }\n",
       "</style>\n",
       "<table border=\"1\" class=\"dataframe\">\n",
       "  <thead>\n",
       "    <tr style=\"text-align: right;\">\n",
       "      <th></th>\n",
       "      <th>URLs</th>\n",
       "    </tr>\n",
       "  </thead>\n",
       "  <tbody>\n",
       "    <tr>\n",
       "      <th>0</th>\n",
       "      <td>http://graphicriver.net/search?date=this-month...</td>\n",
       "    </tr>\n",
       "    <tr>\n",
       "      <th>1</th>\n",
       "      <td>http://ecnavi.jp/redirect/?url=http://www.cros...</td>\n",
       "    </tr>\n",
       "    <tr>\n",
       "      <th>2</th>\n",
       "      <td>https://hubpages.com/signin?explain=follow+Hub...</td>\n",
       "    </tr>\n",
       "    <tr>\n",
       "      <th>3</th>\n",
       "      <td>http://extratorrent.cc/torrent/4190536/AOMEI+B...</td>\n",
       "    </tr>\n",
       "    <tr>\n",
       "      <th>4</th>\n",
       "      <td>http://icicibank.com/Personal-Banking/offers/o...</td>\n",
       "    </tr>\n",
       "  </tbody>\n",
       "</table>\n",
       "</div>"
      ],
      "text/plain": [
       "                                                URLs\n",
       "0  http://graphicriver.net/search?date=this-month...\n",
       "1  http://ecnavi.jp/redirect/?url=http://www.cros...\n",
       "2  https://hubpages.com/signin?explain=follow+Hub...\n",
       "3  http://extratorrent.cc/torrent/4190536/AOMEI+B...\n",
       "4  http://icicibank.com/Personal-Banking/offers/o..."
      ]
     },
     "execution_count": 9,
     "metadata": {},
     "output_type": "execute_result"
    }
   ],
   "source": [
    "#Collecting 5,000 Legitimate URLs randomly\n",
    "legiturl = legit_data.sample(n = 5000, random_state = 12).copy()\n",
    "legiturl = legiturl.reset_index(drop=True)\n",
    "legiturl.head()"
   ]
  },
  {
   "cell_type": "code",
   "execution_count": 10,
   "id": "9f5db52b",
   "metadata": {},
   "outputs": [
    {
     "data": {
      "text/plain": [
       "(5000, 1)"
      ]
     },
     "execution_count": 10,
     "metadata": {},
     "output_type": "execute_result"
    }
   ],
   "source": [
    "legiturl.shape"
   ]
  },
  {
   "cell_type": "markdown",
   "id": "1c8017cb",
   "metadata": {},
   "source": [
    "# 3. Features extraction :  \n",
    " "
   ]
  },
  {
   "cell_type": "markdown",
   "id": "8bf29638",
   "metadata": {},
   "source": [
    "In this step, features are extracted from the URL dataset.\n",
    "\n",
    "The extracted features are categorized into:\n",
    "\n",
    "- Address bar-based features\n",
    "- Domain-based features\n",
    "- HTML and JavaScript-based features"
   ]
  },
  {
   "cell_type": "markdown",
   "id": "6b4fb58f",
   "metadata": {},
   "source": [
    "## 3.1. Address bar-based features :"
   ]
  },
  {
   "cell_type": "markdown",
   "id": "82c7d3fc",
   "metadata": {},
   "source": [
    "Many features can be extracted and considered as address bar-based features. Among these, the following have been taken into account for this project:\n",
    "\n",
    "- **URL Domain**: This feature refers to the main domain of the URL, for example, \"example.com\". It is useful for identifying the source of the URL and verifying its legitimacy.\n",
    "- **IP Address in URL**: If an IP address is used instead of a domain name in the URL, it may indicate an attempt to conceal the site's identity. This can be a sign of a phishing attempt.\n",
    "- **\"@\" Symbol in URL**: The presence of the \"@\" symbol in the URL can indicate a phishing attempt, as it is rare for a user to include a username in a normal URL.\n",
    "- **URL Length**: Phishing URLs often tend to be longer than legitimate URLs. Excessive length may indicate an attempt to conceal the site's identity.\n",
    "- **URL Depth**: This feature refers to the number of subdirectories in the URL. Phishing URLs tend to be deeper than legitimate URLs, as they may try to hide their true source.\n",
    "- **Redirection \"//\" in URL**: The presence of the \"//\" sequence in the URL may indicate redirection, which is often used in phishing attacks to redirect users to malicious sites.\n",
    "- **\"http/https\" in Domain Name**: The presence of \"http\" or \"https\" in the domain name may indicate an attempt to conceal the true site address, which is commonly used in phishing attacks.\n",
    "- **Use of URL shortening services such as TinyURL**: URL shortening services are often used in phishing attacks to mask the true site address. The presence of these services in the URL may indicate a phishing attempt.\n",
    "- **Prefix or Suffix \"-\" in Domain**: Some phishing URLs may use specific prefixes or suffixes in their domain to mimic legitimate URLs. The presence of these elements may indicate an attempt at deception.\n",
    "\n",
    "By analyzing these different features, one can obtain clues about the legitimacy or malignancy of a URL, which is essential for phishing attack detection."
   ]
  },
  {
   "cell_type": "code",
   "execution_count": 11,
   "id": "b458fa13",
   "metadata": {},
   "outputs": [],
   "source": [
    "# importing required packages for this section\n",
    "from urllib.parse import urlparse,urlencode\n",
    "import ipaddress\n",
    "import re"
   ]
  },
  {
   "cell_type": "markdown",
   "id": "6294abf4",
   "metadata": {},
   "source": [
    "### 3.1.1. URL Domain :"
   ]
  },
  {
   "cell_type": "code",
   "execution_count": 12,
   "id": "9f88a85d",
   "metadata": {},
   "outputs": [],
   "source": [
    "# 1.Domain of the URL (Domain) \n",
    "def getDomain(url):\n",
    "    parsed_url = urlparse(url)\n",
    "    domain = parsed_url.netloc\n",
    "    if domain.startswith('www.'):\n",
    "        domain = domain[4:]  # Remove 'www.' if present\n",
    "    return domain"
   ]
  },
  {
   "cell_type": "markdown",
   "id": "4cf61bf6",
   "metadata": {},
   "source": [
    "### 3.1.2. IP Address in the URL :"
   ]
  },
  {
   "cell_type": "code",
   "execution_count": 13,
   "id": "ee3e9183",
   "metadata": {},
   "outputs": [],
   "source": [
    "# 2.Checks for IP address in URL (Have_IP)\n",
    "def havingIP(url):\n",
    "    ip_pattern = r'\\b\\d{1,3}\\.\\d{1,3}\\.\\d{1,3}\\.\\d{1,3}\\b'\n",
    "    return 1 if re.search(ip_pattern, url) else 0"
   ]
  },
  {
   "cell_type": "markdown",
   "id": "cf27d85d",
   "metadata": {},
   "source": [
    "### 3.1.3. \"@\" Symbol in URL"
   ]
  },
  {
   "cell_type": "code",
   "execution_count": 14,
   "id": "dafcd946",
   "metadata": {},
   "outputs": [],
   "source": [
    "# 3.Checks the presence of @ in URL (Have_At)\n",
    "def haveAtSign(url):\n",
    "  if \"@\" in url:\n",
    "    at = 1    \n",
    "  else:\n",
    "    at = 0    \n",
    "  return at"
   ]
  },
  {
   "cell_type": "markdown",
   "id": "f84554ce",
   "metadata": {},
   "source": [
    "### 3.1.4. Length of URL"
   ]
  },
  {
   "cell_type": "code",
   "execution_count": 15,
   "id": "7da334e8",
   "metadata": {},
   "outputs": [],
   "source": [
    "# 4.Finding the length of URL and categorizing (URL_Length)\n",
    "def getLength(url):\n",
    "  if len(url) < 54:\n",
    "    length = 0            \n",
    "  else:\n",
    "    length = 1            \n",
    "  return length"
   ]
  },
  {
   "cell_type": "markdown",
   "id": "c2988e35",
   "metadata": {},
   "source": [
    "### 3.1.5. Depth of URL"
   ]
  },
  {
   "cell_type": "code",
   "execution_count": 16,
   "id": "1b716a48",
   "metadata": {},
   "outputs": [],
   "source": [
    "# 5.Gives number of '/' in URL (URL_Depth)\n",
    "def getDepth(url):\n",
    "    path_segments = urlparse(url).path.split('/')\n",
    "    depth = 0\n",
    "    for segment in path_segments:\n",
    "        if segment:\n",
    "            depth += 1\n",
    "    return depth"
   ]
  },
  {
   "cell_type": "markdown",
   "id": "f70062fb",
   "metadata": {},
   "source": [
    "### 3.1.6. Redirection \"//\" in URL"
   ]
  },
  {
   "cell_type": "code",
   "execution_count": 17,
   "id": "717b3037",
   "metadata": {},
   "outputs": [],
   "source": [
    "# 6.Checking for redirection '//' in the url (Redirection)\n",
    "def redirection(url):\n",
    "  pos = url.rfind('//')\n",
    "  if pos > 6:\n",
    "    if pos > 7:\n",
    "      return 1\n",
    "    else:\n",
    "      return 0\n",
    "  else:\n",
    "    return 0"
   ]
  },
  {
   "cell_type": "markdown",
   "id": "15703014",
   "metadata": {},
   "source": [
    "### 3.1.7. \"http/https\" in Domain name"
   ]
  },
  {
   "cell_type": "code",
   "execution_count": 18,
   "id": "4417f2e4",
   "metadata": {},
   "outputs": [],
   "source": [
    "# 7.Existence of “HTTPS” or \"HTTP\" Token in the Domain Part of the URL (https_Domain)\n",
    "def httpDomain(url):\n",
    "  domain = urlparse(url).netloc\n",
    "  if ('https' in domain or 'http' in domain):\n",
    "    return 1\n",
    "  else:\n",
    "    return 0"
   ]
  },
  {
   "cell_type": "markdown",
   "id": "d81f4401",
   "metadata": {},
   "source": [
    "### 3.1.8. Using URL Shortening Services “TinyURL”"
   ]
  },
  {
   "cell_type": "code",
   "execution_count": 19,
   "id": "c1fe0446",
   "metadata": {},
   "outputs": [],
   "source": [
    "#listing shortening services\n",
    "shortening_services = r\"bit\\.ly|goo\\.gl|shorte\\.st|go2l\\.ink|x\\.co|ow\\.ly|t\\.co|tinyurl|tr\\.im|is\\.gd|cli\\.gs|\" \\\n",
    "                      r\"yfrog\\.com|migre\\.me|ff\\.im|tiny\\.cc|url4\\.eu|twit\\.ac|su\\.pr|twurl\\.nl|snipurl\\.com|\" \\\n",
    "                      r\"short\\.to|BudURL\\.com|ping\\.fm|post\\.ly|Just\\.as|bkite\\.com|snipr\\.com|fic\\.kr|loopt\\.us|\" \\\n",
    "                      r\"doiop\\.com|short\\.ie|kl\\.am|wp\\.me|rubyurl\\.com|om\\.ly|to\\.ly|bit\\.do|t\\.co|lnkd\\.in|db\\.tt|\" \\\n",
    "                      r\"qr\\.ae|adf\\.ly|goo\\.gl|bitly\\.com|cur\\.lv|tinyurl\\.com|ow\\.ly|bit\\.ly|ity\\.im|q\\.gs|is\\.gd|\" \\\n",
    "                      r\"po\\.st|bc\\.vc|twitthis\\.com|u\\.to|j\\.mp|buzurl\\.com|cutt\\.us|u\\.bb|yourls\\.org|x\\.co|\" \\\n",
    "                      r\"prettylinkpro\\.com|scrnch\\.me|filoops\\.info|vzturl\\.com|qr\\.net|1url\\.com|tweez\\.me|v\\.gd|\" \\\n",
    "                      r\"tr\\.im|link\\.zip\\.net\""
   ]
  },
  {
   "cell_type": "code",
   "execution_count": 20,
   "id": "8d99db4a",
   "metadata": {},
   "outputs": [],
   "source": [
    "# 8. Checking for Shortening Services in URL (Tiny_URL)\n",
    "def tinyURL(url):\n",
    "    match=re.search(shortening_services,url)\n",
    "    if match:\n",
    "        return 1\n",
    "    else:\n",
    "        return 0"
   ]
  },
  {
   "cell_type": "markdown",
   "id": "da825944",
   "metadata": {},
   "source": [
    "### 3.1.9. Prefix or Suffix \"-\" in Domain"
   ]
  },
  {
   "cell_type": "code",
   "execution_count": 21,
   "id": "5b36d235",
   "metadata": {},
   "outputs": [],
   "source": [
    "# 9.Checking for Prefix or Suffix Separated by (-) in the Domain (Prefix/Suffix)\n",
    "def prefixSuffix(url):\n",
    "    if ('-' in urlparse(url).netloc or '_' in urlparse(url).netloc):\n",
    "        return 1            \n",
    "    else:\n",
    "        return 0 "
   ]
  },
  {
   "cell_type": "markdown",
   "id": "8594e8b0",
   "metadata": {},
   "source": [
    "## 3.2. Domain-based features"
   ]
  },
  {
   "cell_type": "markdown",
   "id": "5e37b31a",
   "metadata": {},
   "source": [
    "Many features can be extracted and fall into this category. Among these, the following have been considered for this project:\n",
    "- **DNS Record**: This refers to the DNS resolution associated with the URL domain. It can indicate whether the domain is well-established and has valid DNS records.\n",
    "- **Website Traffic**: This feature refers to the amount of traffic received by the website associated with the URL domain. High traffic may indicate the legitimacy of the site, while low or nonexistent traffic may indicate a fraudulent site.\n",
    "- **Domain Age**: This represents the length of time the domain has been registered. Phishing websites often have newer domains, while legitimate sites tend to be older.\n",
    "- **Domain Expiry Period**: This is the expiration date of the domain. A domain expiring soon or recently expired may indicate a potentially suspicious site, while a domain registered for a long period may indicate a more reliable site."
   ]
  },
  {
   "cell_type": "code",
   "execution_count": 22,
   "id": "15e5c902",
   "metadata": {},
   "outputs": [],
   "source": [
    "# importing required packages for this section\n",
    "import re\n",
    "import requests\n",
    "from bs4 import BeautifulSoup\n",
    "import whois\n",
    "import urllib\n",
    "import urllib.request\n",
    "from datetime import datetime"
   ]
  },
  {
   "cell_type": "markdown",
   "id": "135af483",
   "metadata": {},
   "source": [
    "## 3.2.1. DNS Record"
   ]
  },
  {
   "cell_type": "code",
   "execution_count": 23,
   "id": "defd33b4",
   "metadata": {},
   "outputs": [],
   "source": [
    "# 11.DNS Record availability (DNS_Record)\n",
    "# obtained in the featureExtraction function itself"
   ]
  },
  {
   "cell_type": "markdown",
   "id": "a64ea0e1",
   "metadata": {},
   "source": [
    "### 3.2.2. Web Traffic"
   ]
  },
  {
   "cell_type": "code",
   "execution_count": 24,
   "id": "193821a7",
   "metadata": {},
   "outputs": [],
   "source": [
    "def web_traffic(url):\n",
    "     try:\n",
    "        # Fetch the webpage\n",
    "        url = getDomain(url)\n",
    "        response = requests.get(f'https://www.semrush.com/website/{url}/overview/')\n",
    "        soup = BeautifulSoup(response.text, 'html.parser')\n",
    "      \n",
    "        \n",
    "        # Find the global rank element\n",
    "        rank_element = soup.find('div', {'class': 'rank-card__SCWrap-sc-2sba91-6 guXRlv'})\n",
    "        rank_text = rank_element.find('b', class_='rank-card__SCRank-sc-2sba91-8')\n",
    "       \n",
    "\n",
    "        rank_value = rank_text.text.strip()\n",
    "\n",
    "        # Extract the rank number\n",
    "        rank_value = int(rank_value.replace(',', ''))  # Remove commas and convert to int\n",
    "        if rank_value < 100000:\n",
    "             return 0\n",
    "        else:\n",
    "             return 1\n",
    "     except Exception as e:\n",
    "         return 1"
   ]
  },
  {
   "cell_type": "markdown",
   "id": "5894441a",
   "metadata": {},
   "source": [
    "### 3.2.3. Age of Domain"
   ]
  },
  {
   "cell_type": "code",
   "execution_count": 25,
   "id": "c31aebc6",
   "metadata": {},
   "outputs": [],
   "source": [
    "# 13.Survival time of domain: The difference between termination time and creation time (Domain_Age)  \n",
    "def domainAge(domain_name):\n",
    "  creation_date = domain_name.creation_date\n",
    "  expiration_date = domain_name.expiration_date\n",
    "  if (isinstance(creation_date,str) or isinstance(expiration_date,str)):\n",
    "    try:\n",
    "      creation_date = datetime.strptime(creation_date,'%Y-%m-%d')\n",
    "      expiration_date = datetime.strptime(expiration_date,\"%Y-%m-%d\")\n",
    "    except:\n",
    "      return 1\n",
    "  if ((expiration_date is None) or (creation_date is None)):\n",
    "      return 1\n",
    "  elif ((type(expiration_date) is list) or (type(creation_date) is list)):\n",
    "      return 1\n",
    "  else:\n",
    "    ageofdomain = abs((expiration_date - creation_date).days)\n",
    "    if ((ageofdomain/30) < 12):\n",
    "      age = 1\n",
    "    else:\n",
    "      age = 0\n",
    "  return age"
   ]
  },
  {
   "cell_type": "markdown",
   "id": "644954e2",
   "metadata": {},
   "source": [
    "### 3.2.4. End Period of Domain"
   ]
  },
  {
   "cell_type": "code",
   "execution_count": 26,
   "id": "8e57d0f7",
   "metadata": {},
   "outputs": [],
   "source": [
    "def domainEnd(domain_name):\n",
    "  expiration_date = domain_name.expiration_date\n",
    "  if isinstance(expiration_date,str):\n",
    "    try:\n",
    "      expiration_date = datetime.strptime(expiration_date,\"%Y-%m-%d\")\n",
    "    except:\n",
    "      return 1\n",
    "  if (expiration_date is None):\n",
    "      return 1\n",
    "  elif (type(expiration_date) is list):\n",
    "      return 1\n",
    "  else:\n",
    "    today = datetime.now()\n",
    "    end = abs((expiration_date - today).days)\n",
    "    if ((end/30) < 6):\n",
    "      end = 1\n",
    "    else:\n",
    "      end = 0\n",
    "  return end"
   ]
  },
  {
   "cell_type": "markdown",
   "id": "34c394fb",
   "metadata": {},
   "source": [
    "## 3.3. HTML and JavaScript based Features"
   ]
  },
  {
   "cell_type": "markdown",
   "id": "a31562d7",
   "metadata": {},
   "source": [
    "Many features can be extracted in this category. Among them, the following have been considered for this project:\n",
    "- **IFrame Redirection**: This feature refers to the use of IFrame elements to redirect the user to another website without their consent or knowledge. Attackers can use this to mask the actual URL of the phishing site by displaying it within an IFrame on a legitimate page.\n",
    "- **Status Bar Customization**: This involves modifying the browser's status bar to display a different message than expected, which can be used to deceive users about the actual destination of the URL.\n",
    "- **Right-Click Disable**: This feature involves disabling the right-click functionality in the browser window, thereby preventing the user from accessing usual options such as \"Open in a new tab\" or \"View page source\". This can be used to prevent users from inspecting the page source code and detecting suspicious elements.\n",
    "- **Website Redirection**: This feature involves automatically redirecting the user to another website without their explicit consent. This can be used to redirect users to phishing or malicious sites without their consent."
   ]
  },
  {
   "cell_type": "code",
   "execution_count": 27,
   "id": "0cdb0bf1",
   "metadata": {},
   "outputs": [],
   "source": [
    "# importing required packages for this section\n",
    "import requests"
   ]
  },
  {
   "cell_type": "markdown",
   "id": "f9eae3dd",
   "metadata": {},
   "source": [
    "### 3.3.1. IFrame Redirection"
   ]
  },
  {
   "cell_type": "code",
   "execution_count": 28,
   "id": "ddd1c9c0",
   "metadata": {},
   "outputs": [],
   "source": [
    "# 15. IFrame Redirection (iFrame)\n",
    "def iframe(response):\n",
    "  if response == \"\":\n",
    "      return 1\n",
    "  else:\n",
    "      if re.findall(r\"[<iframe>|<frameBorder>]\", response.text):\n",
    "          return 0\n",
    "      else:\n",
    "          return 1"
   ]
  },
  {
   "cell_type": "markdown",
   "id": "cbd6aa51",
   "metadata": {},
   "source": [
    "### 3.3.2. Status Bar Customization"
   ]
  },
  {
   "cell_type": "code",
   "execution_count": 29,
   "id": "b880b486",
   "metadata": {},
   "outputs": [],
   "source": [
    "# 16.Checks the effect of mouse over on status bar (Mouse_Over)\n",
    "def mouseOver(response): \n",
    "  if response == \"\" :\n",
    "    return 1\n",
    "  else:\n",
    "    if re.findall(\"<script>.+onmouseover.+</script>\", response.text):\n",
    "      return 1\n",
    "    else:\n",
    "      return 0"
   ]
  },
  {
   "cell_type": "markdown",
   "id": "3fa76733",
   "metadata": {},
   "source": [
    "### 3.3.3. Disabling Right Click"
   ]
  },
  {
   "cell_type": "code",
   "execution_count": 30,
   "id": "3ad25d8b",
   "metadata": {},
   "outputs": [],
   "source": [
    "# 17.Checks the status of the right click attribute (Right_Click)\n",
    "def rightClick(response):\n",
    "  if response == \"\":\n",
    "    return 1\n",
    "  else:\n",
    "    if re.findall(r\"event.button ?== ?2\", response.text):\n",
    "      return 1\n",
    "    else:\n",
    "      return 0"
   ]
  },
  {
   "cell_type": "markdown",
   "id": "22f1470c",
   "metadata": {},
   "source": [
    "### 3.3.4. Website Forwarding"
   ]
  },
  {
   "cell_type": "code",
   "execution_count": 31,
   "id": "fb8e2bba",
   "metadata": {},
   "outputs": [],
   "source": [
    "# 18.Checks the number of forwardings (Web_Forwards)    \n",
    "def forwarding(response):\n",
    "  if response == \"\":\n",
    "    return 1\n",
    "  else:\n",
    "    if len(response.history) <= 2:\n",
    "      return 0\n",
    "    else:\n",
    "      return 1"
   ]
  },
  {
   "cell_type": "markdown",
   "id": "59120c36",
   "metadata": {},
   "source": [
    "# 4. Computing URL Features"
   ]
  },
  {
   "cell_type": "markdown",
   "id": "5d9986b3",
   "metadata": {},
   "source": [
    "After creating the function for each feature, we will then create a list and a function that calls the other functions and stores all the URL features in the list. We will extract the features from each URL and add them to this list.\n",
    "\n",
    "The function is defined as follows:"
   ]
  },
  {
   "cell_type": "code",
   "execution_count": 32,
   "id": "b656db39",
   "metadata": {},
   "outputs": [
    {
     "data": {
      "text/plain": [
       "['facebook.com', 0, 0, 0, 2, 0, 0, 0, 0, 1, 0, 1, 1, 0, 0, 0, 0]"
      ]
     },
     "execution_count": 32,
     "metadata": {},
     "output_type": "execute_result"
    }
   ],
   "source": [
    "#Function to extract features\n",
    "# There are 17 features extracted from the dataset\n",
    "def featureExtractions(url):\n",
    "\n",
    "  features = []\n",
    "  #Address bar based features (9)\n",
    "  features.append(getDomain(url))\n",
    "  features.append(havingIP(url))\n",
    "  features.append(haveAtSign(url))\n",
    "  features.append(getLength(url))\n",
    "  features.append(getDepth(url))\n",
    "  features.append(redirection(url))\n",
    "  features.append(httpDomain(url))\n",
    "  features.append(prefixSuffix(url))\n",
    "  features.append(tinyURL(url))\n",
    "\n",
    "  \n",
    "  #Domain based features (4)\n",
    "  dns = 0\n",
    "  try:\n",
    "    domain_name = whois.whois(urlparse(url).netloc)\n",
    "  except:\n",
    "    dns = 1\n",
    "\n",
    "  features.append(dns)\n",
    "  features.append(web_traffic(url))\n",
    "  features.append(1 if dns == 1 else domainAge(domain_name))\n",
    "  features.append(1 if dns == 1 else domainEnd(domain_name))\n",
    "  \n",
    "  # HTML & Javascript based features (4)\n",
    "  try:\n",
    "    response = requests.get(url)\n",
    "  except:\n",
    "    response = \"\"\n",
    "  features.append(iframe(response))\n",
    "  features.append(mouseOver(response))\n",
    "  features.append(rightClick(response))\n",
    "  features.append(forwarding(response))\n",
    "#  features.append(label)\n",
    "  \n",
    "  return features\n",
    "\n",
    "featureExtractions('http://www.facebook.com/home/service')"
   ]
  },
  {
   "cell_type": "markdown",
   "id": "9fceaca3",
   "metadata": {},
   "source": [
    "## 4.1. Legitimate URLs:"
   ]
  },
  {
   "cell_type": "markdown",
   "id": "8e5da536",
   "metadata": {},
   "source": [
    "Now, let's proceed with extracting the features from the legitimate URLs."
   ]
  },
  {
   "cell_type": "code",
   "execution_count": 32,
   "id": "7d89f381",
   "metadata": {},
   "outputs": [
    {
     "data": {
      "text/plain": [
       "(5000, 1)"
      ]
     },
     "execution_count": 32,
     "metadata": {},
     "output_type": "execute_result"
    }
   ],
   "source": [
    "legiturl.shape"
   ]
  },
  {
   "cell_type": "code",
   "execution_count": null,
   "id": "c611af51",
   "metadata": {},
   "outputs": [],
   "source": [
    "#Extracting the feautres & storing them in a list\n",
    "legit_features = []\n",
    "for i in range(0, 5000):\n",
    "    print(i) // to show the progress of the extraction process\n",
    "    url = legiturl['URLs'][i]\n",
    "    legit_features.append(featureExtractions(url))  \n",
    "  \n",
    "# ajouter 0 comme label dans chaque ligne( légitime )\n",
    "legit_features = [legit_feature + [0] for legit_feature in legit_features ] "
   ]
  },
  {
   "cell_type": "markdown",
   "id": "9f3402fc-81aa-42ad-8f0e-9222aeb34d05",
   "metadata": {},
   "source": [
    "## convert the list to a dataframe :"
   ]
  },
  {
   "cell_type": "code",
   "execution_count": null,
   "id": "ef42e41e-02e0-4a27-8469-e5e1ade06f41",
   "metadata": {},
   "outputs": [],
   "source": [
    "#converting the list to dataframe\n",
    "feature_names = ['Domain', 'Have_IP', 'Have_At', 'URL_Length', 'URL_Depth','Redirection', \n",
    "                'https_Domain', 'Prefix/Suffix', 'TinyURL', 'DNS_Record', 'Web_Traffic', 'Domain_Age', 'Domain_End',\n",
    "                 'iFrame', 'Mouse_Over','Right_Click', 'Web_Forwards', 'Label']\n",
    "\n",
    "legitimate = pd.DataFrame(legit_features, columns= feature_names)\n",
    "legitimate.head()"
   ]
  },
  {
   "cell_type": "code",
   "execution_count": null,
   "id": "d6213ba1-0fdb-40ec-8534-69183b776748",
   "metadata": {},
   "outputs": [],
   "source": [
    "# Storing the extracted legitimate URLs fatures to csv file\n",
    "legitimate.to_csv('legit_file.csv', index= False)"
   ]
  },
  {
   "cell_type": "markdown",
   "id": "773aa0a0-45e4-40b2-8997-9d23f57a5105",
   "metadata": {},
   "source": [
    "# 3.2 Phishing URLs:"
   ]
  },
  {
   "cell_type": "code",
   "execution_count": 32,
   "id": "781a57c8-56e6-4dfe-905b-2510c076ad53",
   "metadata": {},
   "outputs": [
    {
     "data": {
      "text/plain": [
       "(5000, 8)"
      ]
     },
     "execution_count": 32,
     "metadata": {},
     "output_type": "execute_result"
    }
   ],
   "source": [
    "phishurl.shape"
   ]
  },
  {
   "cell_type": "code",
   "execution_count": null,
   "id": "121aa147",
   "metadata": {},
   "outputs": [],
   "source": [
    "#Extracting the feautres & storing them in a list\n",
    "phish_features = []\n",
    "for i in range(2000, 3000):\n",
    "    print(i)\n",
    "    url = phishurl['url'][i]\n",
    "    phish_features.append(featureExtractions(url))"
   ]
  },
  {
   "cell_type": "code",
   "execution_count": 34,
   "id": "2e995b74-59e9-4952-9897-6dc0dd57fb5c",
   "metadata": {},
   "outputs": [],
   "source": [
    "phish_features = [phish_feature + [1] for phish_feature in phish_features ]"
   ]
  },
  {
   "cell_type": "code",
   "execution_count": 35,
   "id": "a5949c44-2084-4ee3-a69d-5e6db0c9f80a",
   "metadata": {},
   "outputs": [
    {
     "data": {
      "text/html": [
       "<div>\n",
       "<style scoped>\n",
       "    .dataframe tbody tr th:only-of-type {\n",
       "        vertical-align: middle;\n",
       "    }\n",
       "\n",
       "    .dataframe tbody tr th {\n",
       "        vertical-align: top;\n",
       "    }\n",
       "\n",
       "    .dataframe thead th {\n",
       "        text-align: right;\n",
       "    }\n",
       "</style>\n",
       "<table border=\"1\" class=\"dataframe\">\n",
       "  <thead>\n",
       "    <tr style=\"text-align: right;\">\n",
       "      <th></th>\n",
       "      <th>Domain</th>\n",
       "      <th>Have_IP</th>\n",
       "      <th>Have_At</th>\n",
       "      <th>URL_Length</th>\n",
       "      <th>URL_Depth</th>\n",
       "      <th>Redirection</th>\n",
       "      <th>https_Domain</th>\n",
       "      <th>Prefix/Suffix</th>\n",
       "      <th>TinyURL</th>\n",
       "      <th>DNS_Record</th>\n",
       "      <th>Web_Traffic</th>\n",
       "      <th>Domain_Age</th>\n",
       "      <th>Domain_End</th>\n",
       "      <th>iFrame</th>\n",
       "      <th>Mouse_Over</th>\n",
       "      <th>Right_Click</th>\n",
       "      <th>Web_Forwards</th>\n",
       "      <th>Label</th>\n",
       "    </tr>\n",
       "  </thead>\n",
       "  <tbody>\n",
       "    <tr>\n",
       "      <th>0</th>\n",
       "      <td>cloudflare-ipfs.com</td>\n",
       "      <td>0</td>\n",
       "      <td>0</td>\n",
       "      <td>1</td>\n",
       "      <td>2</td>\n",
       "      <td>0</td>\n",
       "      <td>0</td>\n",
       "      <td>1</td>\n",
       "      <td>0</td>\n",
       "      <td>1</td>\n",
       "      <td>0</td>\n",
       "      <td>1</td>\n",
       "      <td>1</td>\n",
       "      <td>0</td>\n",
       "      <td>0</td>\n",
       "      <td>0</td>\n",
       "      <td>0</td>\n",
       "      <td>1</td>\n",
       "    </tr>\n",
       "    <tr>\n",
       "      <th>1</th>\n",
       "      <td>seethesunatatt.weeblysite.com</td>\n",
       "      <td>0</td>\n",
       "      <td>0</td>\n",
       "      <td>0</td>\n",
       "      <td>0</td>\n",
       "      <td>0</td>\n",
       "      <td>0</td>\n",
       "      <td>0</td>\n",
       "      <td>0</td>\n",
       "      <td>1</td>\n",
       "      <td>1</td>\n",
       "      <td>1</td>\n",
       "      <td>1</td>\n",
       "      <td>0</td>\n",
       "      <td>0</td>\n",
       "      <td>0</td>\n",
       "      <td>0</td>\n",
       "      <td>1</td>\n",
       "    </tr>\n",
       "    <tr>\n",
       "      <th>2</th>\n",
       "      <td>cloudflare-ipfs.com</td>\n",
       "      <td>0</td>\n",
       "      <td>0</td>\n",
       "      <td>1</td>\n",
       "      <td>2</td>\n",
       "      <td>0</td>\n",
       "      <td>0</td>\n",
       "      <td>1</td>\n",
       "      <td>0</td>\n",
       "      <td>1</td>\n",
       "      <td>0</td>\n",
       "      <td>1</td>\n",
       "      <td>1</td>\n",
       "      <td>0</td>\n",
       "      <td>0</td>\n",
       "      <td>0</td>\n",
       "      <td>0</td>\n",
       "      <td>1</td>\n",
       "    </tr>\n",
       "    <tr>\n",
       "      <th>3</th>\n",
       "      <td>cloudflare-ipfs.com</td>\n",
       "      <td>0</td>\n",
       "      <td>1</td>\n",
       "      <td>1</td>\n",
       "      <td>3</td>\n",
       "      <td>0</td>\n",
       "      <td>0</td>\n",
       "      <td>1</td>\n",
       "      <td>0</td>\n",
       "      <td>1</td>\n",
       "      <td>0</td>\n",
       "      <td>1</td>\n",
       "      <td>1</td>\n",
       "      <td>0</td>\n",
       "      <td>0</td>\n",
       "      <td>0</td>\n",
       "      <td>0</td>\n",
       "      <td>1</td>\n",
       "    </tr>\n",
       "    <tr>\n",
       "      <th>4</th>\n",
       "      <td>portal-mlbanncochile.skillio.online</td>\n",
       "      <td>0</td>\n",
       "      <td>0</td>\n",
       "      <td>0</td>\n",
       "      <td>0</td>\n",
       "      <td>0</td>\n",
       "      <td>0</td>\n",
       "      <td>1</td>\n",
       "      <td>0</td>\n",
       "      <td>0</td>\n",
       "      <td>1</td>\n",
       "      <td>1</td>\n",
       "      <td>1</td>\n",
       "      <td>0</td>\n",
       "      <td>0</td>\n",
       "      <td>0</td>\n",
       "      <td>0</td>\n",
       "      <td>1</td>\n",
       "    </tr>\n",
       "  </tbody>\n",
       "</table>\n",
       "</div>"
      ],
      "text/plain": [
       "                                Domain  Have_IP  Have_At  URL_Length  \\\n",
       "0                  cloudflare-ipfs.com        0        0           1   \n",
       "1        seethesunatatt.weeblysite.com        0        0           0   \n",
       "2                  cloudflare-ipfs.com        0        0           1   \n",
       "3                  cloudflare-ipfs.com        0        1           1   \n",
       "4  portal-mlbanncochile.skillio.online        0        0           0   \n",
       "\n",
       "   URL_Depth  Redirection  https_Domain  Prefix/Suffix  TinyURL  DNS_Record  \\\n",
       "0          2            0             0              1        0           1   \n",
       "1          0            0             0              0        0           1   \n",
       "2          2            0             0              1        0           1   \n",
       "3          3            0             0              1        0           1   \n",
       "4          0            0             0              1        0           0   \n",
       "\n",
       "   Web_Traffic  Domain_Age  Domain_End  iFrame  Mouse_Over  Right_Click  \\\n",
       "0            0           1           1       0           0            0   \n",
       "1            1           1           1       0           0            0   \n",
       "2            0           1           1       0           0            0   \n",
       "3            0           1           1       0           0            0   \n",
       "4            1           1           1       0           0            0   \n",
       "\n",
       "   Web_Forwards  Label  \n",
       "0             0      1  \n",
       "1             0      1  \n",
       "2             0      1  \n",
       "3             0      1  \n",
       "4             0      1  "
      ]
     },
     "execution_count": 35,
     "metadata": {},
     "output_type": "execute_result"
    }
   ],
   "source": [
    "#converting the list to dataframe\n",
    "feature_names = ['Domain', 'Have_IP', 'Have_At', 'URL_Length', 'URL_Depth','Redirection', \n",
    "                'https_Domain', 'Prefix/Suffix', 'TinyURL', 'DNS_Record', 'Web_Traffic', 'Domain_Age', 'Domain_End',\n",
    "                 'iFrame', 'Mouse_Over','Right_Click', 'Web_Forwards', 'Label']\n",
    "phishing = pd.DataFrame(phish_features, columns= feature_names)\n",
    "phishing.head()"
   ]
  },
  {
   "cell_type": "code",
   "execution_count": 36,
   "id": "789c0098-57e9-4131-a821-bd81f6e59e50",
   "metadata": {},
   "outputs": [],
   "source": [
    "# Storing the extracted legitimate URLs fatures to csv file\n",
    "phishing.to_csv('phishing_file', index= False)"
   ]
  },
  {
   "cell_type": "code",
   "execution_count": null,
   "id": "793c12bc-c13e-4017-af96-ec998161b295",
   "metadata": {},
   "outputs": [],
   "source": [
    "# Read the two CSV files into separate DataFrames\n",
    "df1 = pd.read_csv('legit_features.csv')\n",
    "df2 = pd.read_csv('phishing_features.csv')\n",
    "\n",
    "# Merge the two DataFrames using pd.concat\n",
    "merged_df = pd.concat([df1, df2], ignore_index=True)\n",
    "\n",
    "# Write the merged DataFrame to a new CSV file\n",
    "merged_df.to_csv('data_features.csv', index=False)"
   ]
  },
  {
   "cell_type": "markdown",
   "id": "65608001",
   "metadata": {},
   "source": [
    "As you can see in the figures above, we have saved the features of phishing URLs and legitimate URLs in the files phishing_file.csv and legit_file.csv respectively. Then, we merged the two into a single file named data_features.csv. At this stage, the data is ready to be used for training our model."
   ]
  }
 ],
 "metadata": {
  "kernelspec": {
   "display_name": "Python 3 (ipykernel)",
   "language": "python",
   "name": "python3"
  },
  "language_info": {
   "codemirror_mode": {
    "name": "ipython",
    "version": 3
   },
   "file_extension": ".py",
   "mimetype": "text/x-python",
   "name": "python",
   "nbconvert_exporter": "python",
   "pygments_lexer": "ipython3",
   "version": "3.12.2"
  }
 },
 "nbformat": 4,
 "nbformat_minor": 5
}
